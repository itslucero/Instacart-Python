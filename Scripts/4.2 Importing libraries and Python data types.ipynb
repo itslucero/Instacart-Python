{
 "cells": [
  {
   "cell_type": "markdown",
   "id": "d2cf9ea0",
   "metadata": {},
   "source": [
    "# 01. Importing libraries"
   ]
  },
  {
   "cell_type": "code",
   "execution_count": null,
   "id": "54a7a6bc",
   "metadata": {},
   "outputs": [],
   "source": [
    "# Import libraries\n",
    "import pandas as pd\n",
    "import numpy as np\n",
    "import os"
   ]
  },
  {
   "cell_type": "markdown",
   "id": "f62cd814",
   "metadata": {},
   "source": [
    "# 02. Data types"
   ]
  },
  {
   "cell_type": "code",
   "execution_count": 1,
   "id": "3bd84c13",
   "metadata": {},
   "outputs": [
    {
     "data": {
      "text/plain": [
       "100"
      ]
     },
     "execution_count": 1,
     "metadata": {},
     "output_type": "execute_result"
    }
   ],
   "source": [
    "95 + 5"
   ]
  },
  {
   "cell_type": "code",
   "execution_count": 2,
   "id": "5ba14887",
   "metadata": {},
   "outputs": [
    {
     "data": {
      "text/plain": [
       "100"
      ]
     },
     "execution_count": 2,
     "metadata": {},
     "output_type": "execute_result"
    }
   ],
   "source": [
    "105 - 5"
   ]
  },
  {
   "cell_type": "code",
   "execution_count": 6,
   "id": "45f370a6",
   "metadata": {},
   "outputs": [],
   "source": [
    "x = 95"
   ]
  },
  {
   "cell_type": "code",
   "execution_count": 7,
   "id": "2f8016e1",
   "metadata": {},
   "outputs": [],
   "source": [
    "y = 5"
   ]
  },
  {
   "cell_type": "code",
   "execution_count": 8,
   "id": "309d040c",
   "metadata": {},
   "outputs": [
    {
     "data": {
      "text/plain": [
       "100"
      ]
     },
     "execution_count": 8,
     "metadata": {},
     "output_type": "execute_result"
    }
   ],
   "source": [
    "x + y"
   ]
  },
  {
   "cell_type": "code",
   "execution_count": 9,
   "id": "1b98f309",
   "metadata": {},
   "outputs": [],
   "source": [
    "a = 7.8"
   ]
  },
  {
   "cell_type": "code",
   "execution_count": 11,
   "id": "22629a78",
   "metadata": {},
   "outputs": [],
   "source": [
    "b = 9.21"
   ]
  },
  {
   "cell_type": "code",
   "execution_count": 12,
   "id": "a578ca89",
   "metadata": {
    "scrolled": true
   },
   "outputs": [
    {
     "data": {
      "text/plain": [
       "0.8469055374592833"
      ]
     },
     "execution_count": 12,
     "metadata": {},
     "output_type": "execute_result"
    }
   ],
   "source": [
    "a / b"
   ]
  },
  {
   "cell_type": "code",
   "execution_count": 15,
   "id": "2890debc",
   "metadata": {},
   "outputs": [],
   "source": [
    "c = 'po'"
   ]
  },
  {
   "cell_type": "code",
   "execution_count": 16,
   "id": "aed5cfbd",
   "metadata": {},
   "outputs": [],
   "source": [
    "d = 'ta'"
   ]
  },
  {
   "cell_type": "code",
   "execution_count": 17,
   "id": "688f43ce",
   "metadata": {},
   "outputs": [],
   "source": [
    "e = 'to'"
   ]
  },
  {
   "cell_type": "code",
   "execution_count": 18,
   "id": "e43e2a1d",
   "metadata": {},
   "outputs": [
    {
     "data": {
      "text/plain": [
       "'potato'"
      ]
     },
     "execution_count": 18,
     "metadata": {},
     "output_type": "execute_result"
    }
   ],
   "source": [
    "c + d + e"
   ]
  },
  {
   "cell_type": "code",
   "execution_count": 19,
   "id": "d1c9cf4f",
   "metadata": {},
   "outputs": [],
   "source": [
    "f = 'I'"
   ]
  },
  {
   "cell_type": "code",
   "execution_count": 20,
   "id": "6395c6d9",
   "metadata": {},
   "outputs": [],
   "source": [
    "g = \" love\""
   ]
  },
  {
   "cell_type": "code",
   "execution_count": 21,
   "id": "455e985a",
   "metadata": {},
   "outputs": [],
   "source": [
    "h = ' learning'"
   ]
  },
  {
   "cell_type": "code",
   "execution_count": 22,
   "id": "a270123c",
   "metadata": {},
   "outputs": [],
   "source": [
    "i = ' about'"
   ]
  },
  {
   "cell_type": "code",
   "execution_count": 23,
   "id": "a3e05f97",
   "metadata": {},
   "outputs": [],
   "source": [
    "j = ' Python!'"
   ]
  },
  {
   "cell_type": "code",
   "execution_count": 30,
   "id": "c40323be",
   "metadata": {},
   "outputs": [],
   "source": [
    "k = ' Programming'"
   ]
  },
  {
   "cell_type": "code",
   "execution_count": 26,
   "id": "74c44a7d",
   "metadata": {},
   "outputs": [],
   "source": [
    "l = ' languages'"
   ]
  },
  {
   "cell_type": "code",
   "execution_count": 27,
   "id": "f418a381",
   "metadata": {},
   "outputs": [],
   "source": [
    "m = ' are'"
   ]
  },
  {
   "cell_type": "code",
   "execution_count": 28,
   "id": "b898a776",
   "metadata": {},
   "outputs": [],
   "source": [
    "n = ' rad.'"
   ]
  },
  {
   "cell_type": "code",
   "execution_count": 31,
   "id": "12ded969",
   "metadata": {},
   "outputs": [
    {
     "data": {
      "text/plain": [
       "'I love learning about Python! Programming languages are rad.'"
      ]
     },
     "execution_count": 31,
     "metadata": {},
     "output_type": "execute_result"
    }
   ],
   "source": [
    "f + g + h + i + j + k + l + m + n"
   ]
  },
  {
   "cell_type": "code",
   "execution_count": 32,
   "id": "84f0061a",
   "metadata": {},
   "outputs": [
    {
     "data": {
      "text/plain": [
       "' love love love love love love love love love love love love love love love love love love love love love love love love love love love love love love love love love love love love love love love love love love love love love love love love love love love love love love love love love love love love love love love love love love love love love love love love love love love love love love love love love love love love love love love love love love love love love love love love love love love love'"
      ]
     },
     "execution_count": 32,
     "metadata": {},
     "output_type": "execute_result"
    }
   ],
   "source": [
    "g * 100"
   ]
  }
 ],
 "metadata": {
  "kernelspec": {
   "display_name": "Python 3 (ipykernel)",
   "language": "python",
   "name": "python3"
  },
  "language_info": {
   "codemirror_mode": {
    "name": "ipython",
    "version": 3
   },
   "file_extension": ".py",
   "mimetype": "text/x-python",
   "name": "python",
   "nbconvert_exporter": "python",
   "pygments_lexer": "ipython3",
   "version": "3.9.13"
  }
 },
 "nbformat": 4,
 "nbformat_minor": 5
}
