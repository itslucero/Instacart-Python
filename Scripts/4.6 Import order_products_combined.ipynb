{
 "cells": [
  {
   "cell_type": "code",
   "execution_count": 1,
   "id": "9c2189df",
   "metadata": {},
   "outputs": [],
   "source": [
    "# Importing Libraries\n",
    "import pandas as pd\n",
    "import numpy as mp\n",
    "import os"
   ]
  },
  {
   "cell_type": "code",
   "execution_count": 2,
   "id": "f8a9cb07",
   "metadata": {},
   "outputs": [],
   "source": [
    "# Turn project folder path into a string\n",
    "path = r'/Users/lucerovargas/Documents/Data Analysis/Achievement 4- Python Fundamentals/12.2022 Instacart Basket Analysis'"
   ]
  },
  {
   "cell_type": "markdown",
   "id": "fb11dc6c",
   "metadata": {},
   "source": [
    "### 3. In a new notebook, import the orders_products_combined dataframe from the pickle file just saved."
   ]
  },
  {
   "cell_type": "code",
   "execution_count": 4,
   "id": "d7c0d056",
   "metadata": {},
   "outputs": [],
   "source": [
    "# Import data set \"orders_products_combined.pkl\" file into Jupyter as orders_products_combined\n",
    "df_orders_products = pd.read_pickle(os.path.join(path, 'Data', 'Prepared Data', 'orders_products_combined.pkl'))"
   ]
  },
  {
   "cell_type": "code",
   "execution_count": 6,
   "id": "6a3bb10a",
   "metadata": {},
   "outputs": [
    {
     "data": {
      "text/plain": [
       "(32434489, 11)"
      ]
     },
     "execution_count": 6,
     "metadata": {},
     "output_type": "execute_result"
    }
   ],
   "source": [
    "df_orders_products.shape"
   ]
  },
  {
   "cell_type": "markdown",
   "id": "bd67e5fe",
   "metadata": {},
   "source": [
    "Confirmed the shame on both data frames"
   ]
  }
 ],
 "metadata": {
  "kernelspec": {
   "display_name": "Python 3 (ipykernel)",
   "language": "python",
   "name": "python3"
  },
  "language_info": {
   "codemirror_mode": {
    "name": "ipython",
    "version": 3
   },
   "file_extension": ".py",
   "mimetype": "text/x-python",
   "name": "python",
   "nbconvert_exporter": "python",
   "pygments_lexer": "ipython3",
   "version": "3.9.13"
  }
 },
 "nbformat": 4,
 "nbformat_minor": 5
}
